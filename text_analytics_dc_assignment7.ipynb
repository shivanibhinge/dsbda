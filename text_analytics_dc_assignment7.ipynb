{
  "cells": [
    {
      "cell_type": "markdown",
      "metadata": {
        "id": "__tPP5RSCbEG"
      },
      "source": [
        "### Assignment-7\n"
      ]
    },
    {
      "cell_type": "code",
      "execution_count": null,
      "metadata": {
        "id": "OdUbwrnmCbEK"
      },
      "outputs": [],
      "source": [
        "import nltk \n",
        "import pandas as pd\n",
        "import seaborn as sns\n",
        "import matplotlib.pyplot as plt"
      ]
    },
    {
      "cell_type": "markdown",
      "source": [
        "## Importing dataset"
      ],
      "metadata": {
        "id": "Ezh-HcRgCKz1"
      }
    },
    {
      "cell_type": "code",
      "execution_count": null,
      "metadata": {
        "id": "ayBcRuhHCbEM",
        "outputId": "b7b56209-4ca9-4f32-8dff-e4c642d4794b"
      },
      "outputs": [
        {
          "data": {
            "text/html": [
              "<div>\n",
              "<style scoped>\n",
              "    .dataframe tbody tr th:only-of-type {\n",
              "        vertical-align: middle;\n",
              "    }\n",
              "\n",
              "    .dataframe tbody tr th {\n",
              "        vertical-align: top;\n",
              "    }\n",
              "\n",
              "    .dataframe thead th {\n",
              "        text-align: right;\n",
              "    }\n",
              "</style>\n",
              "<table border=\"1\" class=\"dataframe\">\n",
              "  <thead>\n",
              "    <tr style=\"text-align: right;\">\n",
              "      <th></th>\n",
              "      <th>rating</th>\n",
              "      <th>date</th>\n",
              "      <th>variation</th>\n",
              "      <th>verified_reviews</th>\n",
              "      <th>feedback</th>\n",
              "    </tr>\n",
              "  </thead>\n",
              "  <tbody>\n",
              "    <tr>\n",
              "      <th>0</th>\n",
              "      <td>5</td>\n",
              "      <td>2018-07-31</td>\n",
              "      <td>Charcoal Fabric</td>\n",
              "      <td>Love my Echo!</td>\n",
              "      <td>1</td>\n",
              "    </tr>\n",
              "    <tr>\n",
              "      <th>1</th>\n",
              "      <td>5</td>\n",
              "      <td>2018-07-31</td>\n",
              "      <td>Charcoal Fabric</td>\n",
              "      <td>Loved it!</td>\n",
              "      <td>1</td>\n",
              "    </tr>\n",
              "    <tr>\n",
              "      <th>2</th>\n",
              "      <td>4</td>\n",
              "      <td>2018-07-31</td>\n",
              "      <td>Walnut Finish</td>\n",
              "      <td>Sometimes while playing a game, you can answer...</td>\n",
              "      <td>1</td>\n",
              "    </tr>\n",
              "    <tr>\n",
              "      <th>3</th>\n",
              "      <td>5</td>\n",
              "      <td>2018-07-31</td>\n",
              "      <td>Charcoal Fabric</td>\n",
              "      <td>I have had a lot of fun with this thing. My 4 ...</td>\n",
              "      <td>1</td>\n",
              "    </tr>\n",
              "    <tr>\n",
              "      <th>4</th>\n",
              "      <td>5</td>\n",
              "      <td>2018-07-31</td>\n",
              "      <td>Charcoal Fabric</td>\n",
              "      <td>Music</td>\n",
              "      <td>1</td>\n",
              "    </tr>\n",
              "  </tbody>\n",
              "</table>\n",
              "</div>"
            ],
            "text/plain": [
              "   rating       date         variation  \\\n",
              "0       5 2018-07-31  Charcoal Fabric    \n",
              "1       5 2018-07-31  Charcoal Fabric    \n",
              "2       4 2018-07-31    Walnut Finish    \n",
              "3       5 2018-07-31  Charcoal Fabric    \n",
              "4       5 2018-07-31  Charcoal Fabric    \n",
              "\n",
              "                                    verified_reviews  feedback  \n",
              "0                                      Love my Echo!         1  \n",
              "1                                          Loved it!         1  \n",
              "2  Sometimes while playing a game, you can answer...         1  \n",
              "3  I have had a lot of fun with this thing. My 4 ...         1  \n",
              "4                                              Music         1  "
            ]
          },
          "execution_count": 2,
          "metadata": {},
          "output_type": "execute_result"
        }
      ],
      "source": [
        "df = pd.read_excel(\"amazon_alexa.xlsx\")\n",
        "df.head()"
      ]
    },
    {
      "cell_type": "markdown",
      "source": [
        "dropping unecessary columns"
      ],
      "metadata": {
        "id": "-UZXyFdnCWTx"
      }
    },
    {
      "cell_type": "code",
      "execution_count": null,
      "metadata": {
        "id": "vR6ktiITCbEP"
      },
      "outputs": [],
      "source": [
        "df.drop(columns=['date', 'variation'], inplace=True)"
      ]
    },
    {
      "cell_type": "markdown",
      "source": [
        "# 1) plot a graph of Positive and Negative Feedback (1 = Positive Feedback, 0 = Negative Feedback)\n"
      ],
      "metadata": {
        "id": "bD1ffowJCc2i"
      }
    },
    {
      "cell_type": "code",
      "execution_count": null,
      "metadata": {
        "id": "ulCoVM51CbEQ",
        "outputId": "dac544c8-7d7a-4b3a-f80e-2d0b886d823a"
      },
      "outputs": [
        {
          "data": {
            "text/plain": [
              "<AxesSubplot:>"
            ]
          },
          "execution_count": 4,
          "metadata": {},
          "output_type": "execute_result"
        },
        {
          "data": {
            "image/png": "[encoded data removed]",
            "text/plain": [
              "<Figure size 504x288 with 1 Axes>"
            ]
          },
          "metadata": {
            "needs_background": "light"
          },
          "output_type": "display_data"
        }
      ],
      "source": [
        "fig = plt.figure(figsize=(7, 4))\n",
        "\n",
        "d = df['feedback'].value_counts()\n",
        "\n",
        "x = d.keys().to_list()\n",
        "y = d.values.tolist()\n",
        "sns.barplot(x=x, y=y)"
      ]
    },
    {
      "cell_type": "markdown",
      "source": [
        "#2) Plot the graph of Ratings distibution.\n"
      ],
      "metadata": {
        "id": "SHcgbpLzC91Y"
      }
    },
    {
      "cell_type": "code",
      "execution_count": null,
      "metadata": {
        "id": "g9mqff2BCbER",
        "outputId": "fa55fb9c-50ca-46e7-9f46-0538253e31c4"
      },
      "outputs": [
        {
          "data": {
            "text/plain": [
              "<AxesSubplot:xlabel='rating', ylabel='Count'>"
            ]
          },
          "execution_count": 5,
          "metadata": {},
          "output_type": "execute_result"
        },
        {
          "data": {
            "image/png": "[encoded data removed]",
            "text/plain": [
              "<Figure size 504x288 with 1 Axes>"
            ]
          },
          "metadata": {
            "needs_background": "light"
          },
          "output_type": "display_data"
        }
      ],
      "source": [
        "fig = plt.figure(figsize=(7, 4))\n",
        "sns.histplot(data=df, x='rating', bins=5, kde=True, binrange=(0, 5))"
      ]
    },
    {
      "cell_type": "markdown",
      "source": [
        "#3) Convert the review text into lowercase"
      ],
      "metadata": {
        "id": "j_6DAfzzDDr8"
      }
    },
    {
      "cell_type": "code",
      "execution_count": null,
      "metadata": {
        "id": "aMpAf2P4CbES",
        "outputId": "74665e71-7682-4e67-c3ba-f98fb8cb522e"
      },
      "outputs": [
        {
          "data": {
            "text/plain": [
              "['love my echo!',\n",
              " 'loved it!',\n",
              " 'sometimes while playing a game, you can answer a question correctly but alexa says you got it wrong and answers the same as you.  i like being able to turn lights on and off while away from home.',\n",
              " 'i have had a lot of fun with this thing. my 4 yr old learns about dinosaurs, i control the lights and play games like categories. has nice sound when playing music as well.',\n",
              " 'music']"
            ]
          },
          "execution_count": 6,
          "metadata": {},
          "output_type": "execute_result"
        }
      ],
      "source": [
        "reviews = df['verified_reviews'].to_list()\n",
        "\n",
        "def convert_lower(arr):\n",
        "    return [i.lower() for i in arr]\n",
        "\n",
        "reviews = convert_lower(reviews)\n",
        "reviews[0:5]"
      ]
    },
    {
      "cell_type": "markdown",
      "source": [
        "# 4)Remove all punctuations from review text.\n"
      ],
      "metadata": {
        "id": "I7XXYZV7DOfm"
      }
    },
    {
      "cell_type": "code",
      "execution_count": null,
      "metadata": {
        "id": "xTowZKMuCbET",
        "outputId": "f7f800e2-6003-4b87-8bda-719beb2a8022"
      },
      "outputs": [
        {
          "data": {
            "text/plain": [
              "['love my echo',\n",
              " 'loved it',\n",
              " 'sometimes while playing a game you can answer a question correctly but alexa says you got it wrong and answers the same as you i like being able to turn lights on and off while away from home',\n",
              " 'i have had a lot of fun with this thing my yr old learns about dinosaurs i control the lights and play games like categories has nice sound when playing music as well',\n",
              " 'music']"
            ]
          },
          "execution_count": 7,
          "metadata": {},
          "output_type": "execute_result"
        }
      ],
      "source": [
        "from nltk.tokenize import word_tokenize\n",
        "\n",
        "def remove_punct(arr):\n",
        "    for i in range(len(arr)):\n",
        "        arr[i] = \" \".join(map(str, [w for w in word_tokenize(arr[i]) if w.isalpha()]))\n",
        "    return arr\n",
        "\n",
        "reviews = remove_punct(reviews)\n",
        "reviews[0:5]"
      ]
    },
    {
      "cell_type": "markdown",
      "source": [
        "# 5)Remove emoticons and emojis from the text\n"
      ],
      "metadata": {
        "id": "G1iVTKLyDUoX"
      }
    },
    {
      "cell_type": "code",
      "execution_count": null,
      "metadata": {
        "id": "6lTuFF2eCbET",
        "outputId": "b290e813-7bd7-413e-cb22-fef1fab41d86"
      },
      "outputs": [
        {
          "data": {
            "text/plain": [
              "['love my echo',\n",
              " 'loved it',\n",
              " 'sometimes while playing a game you can answer a question correctly but alexa says you got it wrong and answers the same as you i like being able to turn lights on and off while away from home',\n",
              " 'i have had a lot of fun with this thing my yr old learns about dinosaurs i control the lights and play games like categories has nice sound when playing music as well',\n",
              " 'music']"
            ]
          },
          "execution_count": 8,
          "metadata": {},
          "output_type": "execute_result"
        }
      ],
      "source": [
        "import re\n",
        "\n",
        "# using regex for emoji patterns\n",
        "def remove_emojis(arr):\n",
        "    emoji_pattern = re.compile(\"[\"\n",
        "            u\"\\U0001F600-\\U0001F64F\"  # emoticons\n",
        "            u\"\\U0001F300-\\U0001F5FF\"  # symbols & pictographs\n",
        "            u\"\\U0001F680-\\U0001F6FF\"  # transport & map symbols\n",
        "            u\"\\U0001F1E0-\\U0001F1FF\"  # flags (iOS)\n",
        "                            \"]+\", flags=re.UNICODE)\n",
        "\n",
        "    for i in range(len(arr)):\n",
        "        arr[i] = emoji_pattern.sub(r'', arr[i])\n",
        "\n",
        "    return arr\n",
        "\n",
        "reviews = remove_emojis(reviews)\n",
        "reviews[0:5]"
      ]
    },
    {
      "cell_type": "markdown",
      "source": [
        "#6) Tokenize the review text into words.\n"
      ],
      "metadata": {
        "id": "tgvcPtgZDZUf"
      }
    },
    {
      "cell_type": "code",
      "execution_count": null,
      "metadata": {
        "id": "3YcNJ96yCbEV",
        "outputId": "6c02786a-3847-4591-9911-5e73eb2da9b0"
      },
      "outputs": [
        {
          "data": {
            "text/plain": [
              "[['love', 'my', 'echo'],\n",
              " ['loved', 'it'],\n",
              " ['sometimes',\n",
              "  'while',\n",
              "  'playing',\n",
              "  'a',\n",
              "  'game',\n",
              "  'you',\n",
              "  'can',\n",
              "  'answer',\n",
              "  'a',\n",
              "  'question',\n",
              "  'correctly',\n",
              "  'but',\n",
              "  'alexa',\n",
              "  'says',\n",
              "  'you',\n",
              "  'got',\n",
              "  'it',\n",
              "  'wrong',\n",
              "  'and',\n",
              "  'answers',\n",
              "  'the',\n",
              "  'same',\n",
              "  'as',\n",
              "  'you',\n",
              "  'i',\n",
              "  'like',\n",
              "  'being',\n",
              "  'able',\n",
              "  'to',\n",
              "  'turn',\n",
              "  'lights',\n",
              "  'on',\n",
              "  'and',\n",
              "  'off',\n",
              "  'while',\n",
              "  'away',\n",
              "  'from',\n",
              "  'home'],\n",
              " ['i',\n",
              "  'have',\n",
              "  'had',\n",
              "  'a',\n",
              "  'lot',\n",
              "  'of',\n",
              "  'fun',\n",
              "  'with',\n",
              "  'this',\n",
              "  'thing',\n",
              "  'my',\n",
              "  'yr',\n",
              "  'old',\n",
              "  'learns',\n",
              "  'about',\n",
              "  'dinosaurs',\n",
              "  'i',\n",
              "  'control',\n",
              "  'the',\n",
              "  'lights',\n",
              "  'and',\n",
              "  'play',\n",
              "  'games',\n",
              "  'like',\n",
              "  'categories',\n",
              "  'has',\n",
              "  'nice',\n",
              "  'sound',\n",
              "  'when',\n",
              "  'playing',\n",
              "  'music',\n",
              "  'as',\n",
              "  'well'],\n",
              " ['music']]"
            ]
          },
          "execution_count": 9,
          "metadata": {},
          "output_type": "execute_result"
        }
      ],
      "source": [
        "def tokenize_all(arr):\n",
        "    return [word_tokenize(sent) for sent in arr]\n",
        "\n",
        "reviews = tokenize_all(reviews)\n",
        "reviews[0:5]"
      ]
    },
    {
      "cell_type": "markdown",
      "source": [
        "#7) Remove the stopwords from the tokenized text.\n"
      ],
      "metadata": {
        "id": "akoJF1MsDcVG"
      }
    },
    {
      "cell_type": "code",
      "execution_count": null,
      "metadata": {
        "id": "SIyoI-xPCbEW",
        "outputId": "cca3584e-a81f-4a56-b6d8-85453ab1411b"
      },
      "outputs": [
        {
          "data": {
            "text/plain": [
              "[['love', 'echo'],\n",
              " ['loved'],\n",
              " ['sometimes',\n",
              "  'playing',\n",
              "  'game',\n",
              "  'answer',\n",
              "  'question',\n",
              "  'correctly',\n",
              "  'alexa',\n",
              "  'says',\n",
              "  'got',\n",
              "  'wrong',\n",
              "  'answers',\n",
              "  'like',\n",
              "  'able',\n",
              "  'turn',\n",
              "  'lights',\n",
              "  'away',\n",
              "  'home'],\n",
              " ['lot',\n",
              "  'fun',\n",
              "  'thing',\n",
              "  'yr',\n",
              "  'old',\n",
              "  'learns',\n",
              "  'dinosaurs',\n",
              "  'control',\n",
              "  'lights',\n",
              "  'play',\n",
              "  'games',\n",
              "  'like',\n",
              "  'categories',\n",
              "  'nice',\n",
              "  'sound',\n",
              "  'playing',\n",
              "  'music',\n",
              "  'well'],\n",
              " ['music']]"
            ]
          },
          "execution_count": 10,
          "metadata": {},
          "output_type": "execute_result"
        }
      ],
      "source": [
        "from nltk.corpus import stopwords\n",
        "\n",
        "def remove_stopwords(arr):\n",
        "    stop_words = stopwords.words('english')\n",
        "    for i in range(len(arr)):\n",
        "        arr[i] = [w for w in arr[i] if w not in stop_words]\n",
        "    return arr\n",
        "\n",
        "reviews = remove_stopwords(reviews)\n",
        "reviews[0:5]"
      ]
    },
    {
      "cell_type": "markdown",
      "source": [
        "#8) Perform stemming & lemmatization on the review text.\n"
      ],
      "metadata": {
        "id": "OPEQTQ3JDgaQ"
      }
    },
    {
      "cell_type": "code",
      "execution_count": null,
      "metadata": {
        "id": "1scJJk4QCbEW",
        "outputId": "9bac7c8d-14a9-4695-9518-173f0e664ca4"
      },
      "outputs": [
        {
          "data": {
            "text/plain": [
              "[['love', 'echo'],\n",
              " ['love'],\n",
              " ['sometim',\n",
              "  'play',\n",
              "  'game',\n",
              "  'answer',\n",
              "  'question',\n",
              "  'correctli',\n",
              "  'alexa',\n",
              "  'say',\n",
              "  'got',\n",
              "  'wrong',\n",
              "  'answer',\n",
              "  'like',\n",
              "  'abl',\n",
              "  'turn',\n",
              "  'light',\n",
              "  'away',\n",
              "  'home'],\n",
              " ['lot',\n",
              "  'fun',\n",
              "  'thing',\n",
              "  'yr',\n",
              "  'old',\n",
              "  'learn',\n",
              "  'dinosaur',\n",
              "  'control',\n",
              "  'light',\n",
              "  'play',\n",
              "  'game',\n",
              "  'like',\n",
              "  'categori',\n",
              "  'nice',\n",
              "  'sound',\n",
              "  'play',\n",
              "  'music',\n",
              "  'well'],\n",
              " ['music']]"
            ]
          },
          "execution_count": 11,
          "metadata": {},
          "output_type": "execute_result"
        }
      ],
      "source": [
        "from nltk.stem.porter import PorterStemmer\n",
        "from nltk.stem import WordNetLemmatizer\n",
        "\n",
        "def stem_lemmatize(arr):\n",
        "    stemmer = PorterStemmer()\n",
        "    lemmatizer = WordNetLemmatizer()\n",
        "\n",
        "    for i in range(len(arr)):\n",
        "        # stem\n",
        "        arr[i] = [stemmer.stem(w) for w in arr[i]]\n",
        "        # lemmatize\n",
        "        arr[i] = [lemmatizer.lemmatize(w) for w in arr[i]]\n",
        "    \n",
        "    return arr\n",
        "\n",
        "reviews = stem_lemmatize(reviews)\n",
        "reviews[0:5]"
      ]
    },
    {
      "cell_type": "markdown",
      "source": [
        "#9) convert arrays back to sentences\n"
      ],
      "metadata": {
        "id": "I0-UQpmJDp4L"
      }
    },
    {
      "cell_type": "code",
      "execution_count": null,
      "metadata": {
        "id": "3fYNGv_nCbEX",
        "outputId": "39fbc5a1-ba5e-477b-d9ea-dcee0220e75e"
      },
      "outputs": [
        {
          "name": "stdout",
          "output_type": "stream",
          "text": [
            "['love echo', 'love', 'sometim play game answer question correctli alexa say got wrong answer like abl turn light away home', 'lot fun thing yr old learn dinosaur control light play game like categori nice sound play music well', 'music']\n"
          ]
        }
      ],
      "source": [
        "for i in range(len(reviews)):\n",
        "    reviews[i] = \" \".join(map(str, reviews[i]))\n",
        "\n",
        "print(reviews[0:5])"
      ]
    },
    {
      "cell_type": "markdown",
      "source": [
        "#10) Perform the word vectorization on review text using Bag of Words technique.\n"
      ],
      "metadata": {
        "id": "eNC8qCieDzpK"
      }
    },
    {
      "cell_type": "code",
      "execution_count": null,
      "metadata": {
        "id": "oAePBHGcCbEY",
        "outputId": "cabaa975-6ddf-4f87-bf24-767c4cefef18"
      },
      "outputs": [
        {
          "name": "stdout",
          "output_type": "stream",
          "text": [
            "Bag of Words\n",
            "['abay', 'abc', 'abd', 'abil', 'abl', 'abod', 'absolut', 'absolutli', 'ac', 'accent', 'accept', 'access', 'accessori', 'accid', 'accident', 'accompani', 'accomplish', 'accord', 'accordingli', 'account', 'accur', 'accuraci', 'accustom', 'acknowledg', 'acoust', 'across', 'act', 'action', 'activ', 'actual', 'ad', 'adapt', 'add', 'addict', 'addit', 'addon', 'address', 'adept', 'adequ', 'adjac', 'adjust', 'admit', 'adopt', 'ador', 'adult', 'advanc', 'advantag', 'advertis', 'advic', 'advis', 'aesthet', 'af', 'affirm', 'afford', 'afraid', 'afternoon', 'afterward', 'age', 'agent', 'ago', 'agre', 'agreement', 'ahead', 'ai', 'aid', 'aint', 'air', 'aka', 'al', 'alabama', 'alarm', 'albeit', 'alcohol', 'alert', 'alex', 'alexa', 'alexi', 'alexia', 'alexu', 'algo', 'aliv', 'allevi', 'allow', 'allrecip', 'almost', 'alon', 'along', 'alongsid', 'alot', 'aloud', 'alread', 'alreadi', 'alright', 'also', 'alter', 'altern', 'although', 'alway', 'amaonmaz', 'amax', 'amaz', 'amazin', 'amazingli', 'amazo', 'amazon', 'amazonia', 'ambient', 'american', 'among', 'amount', 'amozon', 'amplifi', 'amus', 'analog', 'and', 'android', 'angl', 'annoy', 'anoth', 'answer', 'ant', 'anticip', 'anybodi', 'anyhow', 'anylist', 'anymor', 'anyon', 'anypod', 'anyth', 'anytim', 'anyway', 'anywher', 'apart', 'app', 'appar', 'appeal', 'appear', 'appl', 'applianc', 'applic', 'appoint', 'appreci', 'apprehens', 'approach', 'appropri', 'approxim', 'area', 'arent', 'argu', 'argument', 'aris', 'arlo', 'arm', 'around', 'array', 'arriv', 'articl', 'artist', 'as', 'asap', 'ase', 'ask', 'asleep', 'aspect', 'assign', 'assist', 'assum', 'assumpt', 'atención', 'atmospher', 'atrá', 'attach', 'attempt', 'attent', 'attract', 'audibl', 'audio', 'audioappl', 'audiobook', 'audiophil', 'august', 'aunt', 'auto', 'autom', 'automat', 'aux', 'auxiliari', 'av', 'avail', 'avoid', 'aw', 'awak', 'awar', 'away', 'awesom', 'awhil', 'awkward', 'awsom', 'babi', 'back', 'background', 'backyard', 'bad', 'baffl', 'ball', 'ban', 'band', 'bandwagon', 'bandwidth', 'bang', 'bar', 'bare', 'bargain', 'bark', 'barn', 'barret', 'barri', 'base', 'basebal', 'basement', 'basic', 'bass', 'bathroom', 'batman', 'batteri', 'bc', 'beam', 'beat', 'beauti', 'becam', 'becauss', 'becom', 'bed', 'bedroom', 'bedsid', 'bedtim', 'beefi', 'begin', 'beginn', 'begun', 'behav', 'behind', 'believ', 'bell', 'belong', 'benefit', 'besid', 'best', 'bet', 'beta', 'better', 'bettter', 'beyond', 'bezel', 'bezo', 'bf', 'bff', 'bibl', 'big', 'bigger', 'biggest', 'bill', 'billboard', 'bing', 'birth', 'birthday', 'bit', 'bizarr', 'black', 'blanket', 'blast', 'bless', 'blind', 'blink', 'block', 'blood', 'bloomberg', 'blow', 'blown', 'blue', 'blueprint', 'bluetooth', 'blur', 'board', 'boat', 'bob', 'bodi', 'bolt', 'bonker', 'bonu', 'book', 'boom', 'boombox', 'boost', 'bore', 'born', 'bos', 'bose', 'bot', 'bother', 'bothersom', 'bottom', 'bough', 'bought', 'box', 'boyfriend', 'brand', 'brandnew', 'bread', 'break', 'breakfast', 'breez', 'bridg', 'brief', 'bright', 'bring', 'british', 'broadway', 'broke', 'broken', 'brought', 'bt', 'buck', 'buddi', 'budget', 'buffer', 'buffet', 'bug', 'build', 'built', 'bulb', 'buld', 'bulki', 'bum', 'bunch', 'bundl', 'burn', 'busi', 'but', 'button', 'buy', 'buyer', 'buzz', 'bye', 'ca', 'cabl', 'calendar', 'call', 'calm', 'calmer', 'cam', 'cambiar', 'came', 'camelot', 'camera', 'campu', 'canari', 'cancel', 'cant', 'capabl', 'capac', 'capas', 'car', 'card', 'cardsrot', 'care', 'careless', 'carolina', 'carri', 'carrier', 'cart', 'cartoon', 'case', 'cat', 'catch', 'categori', 'caus', 'cave', 'cb', 'cd', 'ceas', 'ceil', 'celeb', 'cell', 'cellphon', 'cent', 'center', 'certain', 'certainli', 'certifi', 'chachki', 'chair', 'chalk', 'challeng', 'champ', 'chanc', 'chang', 'changer', 'channel', 'characterist', 'charg', 'chargeabl', 'charger', 'charlott', 'charm', 'chart', 'chat', 'cheap', 'cheaper', 'cheapest', 'check', 'child', 'childhood', 'chocol', 'choic', 'choos', 'choppi', 'chore', 'chose', 'chosen', 'christma', 'chromebook', 'chromecast', 'circl', 'citi', 'citizen', 'clapper', 'clariti', 'class', 'classic', 'classroom', 'clean', 'cleaner', 'clear', 'clearer', 'clearli', 'click', 'client', 'clip', 'clock', 'clockhom', 'clone', 'close', 'closer', 'cloth', 'cloud', 'clue', 'cnn', 'coast', 'code', 'coffe', 'cohes', 'collect', 'collector', 'colleg', 'colon', 'color', 'comand', 'combin', 'come', 'comelet', 'comfort', 'command', 'comment', 'commerci', 'commod', 'common', 'commun', 'commut', 'como', 'compac', 'compact', 'compani', 'companion', 'compar', 'compat', 'competit', 'complain', 'complaint', 'complet', 'complic', 'compliment', 'compon', 'compound', 'comput', 'con', 'concept', 'concern', 'concis', 'condit', 'conectado', 'conferenc', 'confid', 'configur', 'conflict', 'confus', 'connect', 'consciou', 'consid', 'consist', 'conspiraci', 'constant', 'constantli', 'construct', 'consult', 'consum', 'contact', 'contain', 'content', 'contin', 'continu', 'control', 'conveni', 'convers', 'convert', 'convinc', 'cook', 'cool', 'cooler', 'coolest', 'coop', 'coordin', 'cord', 'cordless', 'cordthank', 'core', 'correct', 'correctli', 'correspond', 'cortna', 'cost', 'cotton', 'couch', 'could', 'counter', 'counti', 'countless', 'countri', 'coupl', 'cours', 'cousin', 'cover', 'cozi', 'cpr', 'crack', 'crackl', 'crap', 'crappi', 'crash', 'crazi', 'creapi', 'creat', 'credit', 'creepi', 'crib', 'crisp', 'critic', 'crop', 'cross', 'crunchyrol', 'csi', 'cualquier', 'cue', 'cumbersom', 'cup', 'cur', 'current', 'curv', 'custom', 'customiz', 'cut', 'cute', 'cuti', 'cycl', 'cylind', 'cylinderc', 'dad', 'daili', 'damag', 'danc', 'dare', 'dark', 'darn', 'dash', 'data', 'date', 'daughter', 'day', 'de', 'deactiv', 'dead', 'deaf', 'deal', 'debat', 'dec', 'decent', 'decid', 'decis', 'deck', 'decor', 'decreas', 'dedic', 'deep', 'deeper', 'default', 'defeat', 'defect', 'defenc', 'defent', 'defin', 'definit', 'degre', 'del', 'delay', 'delet', 'deliv', 'deliveri', 'demand', 'dementia', 'den', 'denon', 'dent', 'depart', 'depend', 'deploy', 'depreci', 'depth', 'describ', 'descript', 'design', 'desir', 'desk', 'despit', 'detail', 'detect', 'determin', 'develop', 'devi', 'devic', 'deviceoveral', 'dhiw', 'diagnost', 'dial', 'dictionari', 'didnt', 'die', 'differ', 'differenti', 'difficult', 'difficulti', 'dig', 'digit', 'digitol', 'dim', 'dimat', 'dimens', 'dimmer', 'dine', 'dinner', 'dinosaur', 'direct', 'directli', 'directtv', 'directv', 'disabl', 'disagre', 'disappoint', 'disarm', 'disast', 'disconcert', 'disconnect', 'discount', 'discourag', 'discov', 'discoveredthat', 'discoveri', 'dish', 'dislik', 'dismiss', 'display', 'dispos', 'dissatisfact', 'distanc', 'distort', 'distract', 'disturb', 'ditch', 'diver', 'divertido', 'dj', 'dock', 'doctor', 'dodg', 'doesnt', 'dog', 'dollar', 'domain', 'done', 'dont', 'door', 'doorbel', 'dorm', 'dot', 'doubt', 'downfal', 'download', 'downright', 'downsid', 'downstair', 'drag', 'draw', 'drawback', 'dress', 'drive', 'driven', 'driver', 'drop', 'dryer', 'due', 'dumb', 'dumber', 'dunc', 'dunno', 'dust', 'duti', 'dylan', 'ea', 'ear', 'earli', 'earn', 'easi', 'easier', 'easili', 'east', 'eavesdrop', 'echo', 'echoplu', 'eco', 'ecoo', 'ecosystem', 'ed', 'edg', 'edit', 'educ', 'eeaanh', 'effect', 'effici', 'effort', 'effortless', 'eg', 'eh', 'either', 'el', 'elderli', 'electeon', 'electr', 'electrician', 'electron', 'eleg', 'element', 'elimin', 'elsewher', 'em', 'email', 'embarrass', 'emerg', 'emoji', 'employe', 'en', 'enabl', 'encyclopedia', 'end', 'endless', 'engag', 'engin', 'english', 'enhanc', 'enjoy', 'enough', 'enrol', 'enter', 'entertain', 'entir', 'entri', 'eq', 'equal', 'equip', 'equipo', 'error', 'escencia', 'esp', 'espanol', 'español', 'especi', 'essenti', 'est', 'esta', 'estar', 'estudio', 'esté', 'etc', 'etekc', 'ethernet', 'evalu', 'even', 'event', 'eventu', 'ever', 'everi', 'everybodi', 'everyday', 'everyon', 'everyth', 'everytim', 'everywher', 'eveyday', 'evolv', 'evryth', 'ex', 'exact', 'exactli', 'exampl', 'exce', 'exceed', 'excel', 'excelent', 'except', 'excess', 'exchang', 'excit', 'excus', 'exho', 'exist', 'expand', 'expect', 'expens', 'experi', 'experienc', 'expert', 'expir', 'explan', 'explicit', 'explor', 'extend', 'extens', 'extent', 'extern', 'extra', 'extrem', 'extrimelli', 'eye', 'fabric', 'fabul', 'face', 'facebook', 'facetim', 'fact', 'factor', 'factori', 'fail', 'fair', 'fairli', 'fall', 'fals', 'famili', 'familiar', 'fan', 'fanat', 'fantast', 'far', 'farther', 'fascin', 'fashion', 'fast', 'faster', 'fat', 'father', 'fault', 'faulti', 'favorit', 'featu', 'featur', 'fee', 'feed', 'feedback', 'feee', 'feel', 'fell', 'felt', 'fenc', 'fi', 'fianc', 'fidel', 'figur', 'fill', 'final', 'find', 'fine', 'fingertip', 'finicki', 'finish', 'fio', 'fire', 'firestick', 'firmar', 'firmwar', 'first', 'fit', 'five', 'fix', 'fixtur', 'flash', 'flat', 'flaw', 'flawless', 'flawlessli', 'flexibl', 'flicker', 'floor', 'fm', 'folk', 'follow', 'font', 'foot', 'footbal', 'footprint', 'forc', 'forecast', 'forev', 'forget', 'forgot', 'forgotten', 'forjust', 'form', 'forth', 'fortun', 'forum', 'forward', 'found', 'four', 'fourth', 'free', 'freez', 'frequent', 'fri', 'friday', 'friend', 'friendli', 'front', 'frustrat', 'full', 'fuller', 'fulli', 'fumbl', 'fun', 'funcion', 'funciona', 'funcionamiento', 'function', 'funni', 'furthermor', 'fuss', 'fussi', 'futur', 'fw', 'gadget', 'gain', 'galaxi', 'game', 'gap', 'garag', 'garbag', 'gateway', 'gather', 'gave', 'gazebo', 'gb', 'ge', 'gear', 'geek', 'gen', 'gender', 'gener', 'genial', 'genr', 'geo', 'get', 'gf', 'ghost', 'gift', 'girl', 'girlfriend', 'give', 'given', 'gizmo', 'glad', 'glare', 'glass', 'glitch', 'glorifi', 'glow', 'go', 'god', 'godsend', 'goe', 'golden', 'gone', 'goo', 'good', 'goodi', 'goodmorn', 'googl', 'got', 'gotten', 'govern', 'grab', 'grace', 'grand', 'grandaught', 'grandchild', 'granddaught', 'grandfath', 'grandkid', 'grandmoth', 'grandpar', 'grandson', 'granit', 'grant', 'graphic', 'gratament', 'great', 'greater', 'greatest', 'greatli', 'green', 'greet', 'grip', 'gripe', 'groceri', 'groggi', 'ground', 'group', 'grow', 'grownup', 'guarante', 'guard', 'guess', 'guest', 'guid', 'guilti', 'guy', 'habit', 'habla', 'haha', 'hahaawesom', 'hahahaha', 'hair', 'hal', 'half', 'hallway', 'hand', 'handi', 'handl', 'hang', 'happen', 'happi', 'happier', 'hard', 'hardcor', 'harder', 'hardli', 'harmoni', 'harvard', 'hassel', 'hassl', 'hate', 'hauler', 'havent', 'haywir', 'hbo', 'hcfe', 'hd', 'hdmi', 'he', 'head', 'headlin', 'headphon', 'heal', 'hear', 'heard', 'heart', 'heaven', 'heavi', 'heck', 'hectic', 'hel', 'held', 'hell', 'help', 'helper', 'henc', 'hesit', 'hey', 'hi', 'hiccup', 'hide', 'high', 'higher', 'highest', 'highli', 'hint', 'hire', 'histori', 'hit', 'hmm', 'hmmm', 'hmmmm', 'hold', 'holder', 'hole', 'holi', 'holiday', 'home', 'homescreen', 'homework', 'honest', 'honestli', 'hong', 'hook', 'hope', 'hora', 'horribl', 'hors', 'hospit', 'host', 'hot', 'hotel', 'hour', 'hous', 'household', 'howev', 'hr', 'http', 'hub', 'hubbi', 'hue', 'huel', 'huge', 'hulu', 'human', 'humour', 'hundr', 'husband', 'hut', 'hvac', 'hype', 'id', 'idea', 'ideal', 'if', 'ight', 'ignor', 'iheart', 'iheartradio', 'ihom', 'ii', 'illustr', 'im', 'imag', 'imagin', 'imhav', 'immedi', 'impair', 'imped', 'imperfect', 'implement', 'import', 'importantli', 'impress', 'improv', 'impuls', 'imrprov', 'imu', 'inabl', 'inact', 'includ', 'inclus', 'incom', 'inconveni', 'incorpor', 'increas', 'incred', 'india', 'indic', 'indispens', 'individu', 'indoor', 'indund', 'industri', 'inexpens', 'inexperi', 'infact', 'inferior', 'info', 'inform', 'información', 'infotain', 'initi', 'inlin', 'innov', 'input', 'insan', 'insert', 'insid', 'insist', 'inspir', 'instal', 'instant', 'instantan', 'instantli', 'instead', 'instruct', 'integr', 'intelag', 'inteligent', 'intellig', 'intend', 'intent', 'interact', 'intercom', 'interest', 'interfac', 'interfer', 'intermitt', 'intern', 'internet', 'interpret', 'interrog', 'interrupt', 'intimid', 'introduc', 'introduct', 'intrus', 'intuit', 'invas', 'invent', 'invest', 'invit', 'involv', 'iot', 'iov', 'ipad', 'ipdat', 'iphon', 'irrit', 'ise', 'ish', 'island', 'isnt', 'isol', 'issu', 'isu', 'ita', 'itali', 'italian', 'item', 'itun', 'iy', 'jack', 'jacuzzi', 'jam', 'jaw', 'jazz', 'jeapordi', 'jeff', 'jeopardi', 'jetson', 'jimmi', 'job', 'johnni', 'join', 'joke', 'journey', 'joy', 'jump', 'june', 'junk', 'kasa', 'keen', 'keep', 'keeper', 'kept', 'key', 'keyboard', 'kick', 'kid', 'killer', 'kind', 'kinda', 'kindl', 'king', 'kitchen', 'knee', 'knew', 'knob', 'knock', 'know', 'knowledg', 'known', 'kodi', 'kong', 'korea', 'kwikset', 'la', 'label', 'lack', 'ladi', 'lag', 'lame', 'lamp', 'land', 'languag', 'lap', 'laptop', 'larg', 'larger', 'last', 'lastli', 'late', 'later', 'laud', 'laugh', 'laughter', 'laundri', 'law', 'lay', 'layer', 'lazi', 'lcd', 'le', 'lean', 'leari', 'learn', 'learnimg', 'least', 'leav', 'led', 'left', 'leg', 'legal', 'leisur', 'length', 'lesson', 'let', 'level', 'lg', 'librari', 'life', 'lifetim', 'lifht', 'light', 'lightbulb', 'lighten', 'lightn', 'like', 'lil', 'lilttl', 'limit', 'line', 'link', 'list', 'listen', 'lit', 'liter', 'littl', 'live', 'livingroom', 'llama', 'llegó', 'lm', 'lo', 'load', 'local', 'locat', 'lock', 'logitech', 'logo', 'logra', 'lol', 'lolol', 'lone', 'long', 'longer', 'longev', 'loo', 'look', 'looooooov', 'lose', 'loss', 'lost', 'lot', 'loud', 'louder', 'loui', 'lov', 'love', 'lover', 'low', 'lower', 'luck', 'lucki', 'luckili', 'lullabi', 'lurk', 'luv', 'lve', 'lyric', 'mac', 'machin', 'madden', 'made', 'madlib', 'magic', 'mail', 'main', 'mainli', 'mainstream', 'maintain', 'maje', 'majel', 'major', 'make', 'male', 'malon', 'mama', 'man', 'manag', 'mandatori', 'maneuv', 'mani', 'manner', 'manual', 'manufactur', 'margin', 'mark', 'market', 'marvel', 'massiv', 'match', 'materi', 'matter', 'maxim', 'may', 'mayb', 'mb', 'mean', 'meaning', 'meant', 'medic', 'mediocr', 'medit', 'medium', 'meh', 'member', 'membership', 'memori', 'mention', 'menu', 'mere', 'mess', 'messag', 'met', 'metro', 'mexico', 'mi', 'miami', 'mic', 'microphon', 'mid', 'middl', 'might', 'mile', 'million', 'mimic', 'min', 'mind', 'mindset', 'mine', 'mini', 'minim', 'minimum', 'minor', 'minorli', 'mint', 'minut', 'mirror', 'misl', 'misplac', 'miss', 'mistak', 'misunderstand', 'mix', 'moana', 'mobil', 'mode', 'model', 'modern', 'mom', 'moment', 'money', 'monitor', 'month', 'monthli', 'mood', 'morn', 'mostli', 'mother', 'motiv', 'motown', 'mount', 'move', 'movi', 'mu', 'much', 'muffl', 'multi', 'multipl', 'music', 'must', 'mute', 'muy', 'mybedroom', 'múltipl', 'na', 'name', 'nana', 'nanni', 'nativ', 'natur', 'navig', 'naw', 'nbc', 'nbsp', 'nc', 'nd', 'ne', 'near', 'nearli', 'neat', 'necess', 'need', 'neg', 'neighbor', 'neither', 'nephew', 'nervana', 'nervou', 'nest', 'net', 'netflix', 'network', 'never', 'new', 'newer', 'newest', 'news', 'newsflash', 'nexia', 'next', 'nfl', 'ni', 'nice', 'nicer', 'niec', 'nigh', 'night', 'nightmar', 'nightstand', 'nil', 'nit', 'nite', 'no', 'nobodi', 'noi', 'nois', 'non', 'none', 'nonsens', 'nope', 'norm', 'normal', 'north', 'note', 'noth', 'notic', 'notif', 'notifi', 'novelti', 'nowher', 'npr', 'nrw', 'nsa', 'nudg', 'numb', 'number', 'numer', 'nurs', 'nut', 'ny', 'ob', 'obtrus', 'obviou', 'occas', 'occasion', 'ocean', 'odd', 'of', 'offer', 'offic', 'offici', 'often', 'oh', 'ok', 'okay', 'old', 'older', 'oldest', 'olor', 'omg', 'onceproblem', 'one', 'onetim', 'onlin', 'onm', 'onto', 'oop', 'open', 'oper', 'opera', 'opinion', 'opportun', 'opt', 'optic', 'optimum', 'option', 'orang', 'orchestra', 'order', 'organ', 'orient', 'origin', 'original', 'other', 'otherwis', 'outdoor', 'outlet', 'output', 'outrag', 'outsid', 'outsmart', 'outstand', 'oven', 'overa', 'overal', 'overcom', 'overh', 'overpr', 'overrid', 'overtim', 'overview', 'overwhelm', 'owe', 'owlhead', 'own', 'owner', 'pack', 'packag', 'page', 'paid', 'pain', 'pair', 'pamphlet', 'pandora', 'pant', 'paper', 'par', 'paranoid', 'pare', 'parent', 'park', 'paroduct', 'part', 'parti', 'particip', 'particular', 'particularli', 'partner', 'pas', 'password', 'past', 'patch', 'patienc', 'patient', 'patio', 'pattern', 'paus', 'pay', 'pc', 'película', 'pen', 'pencil', 'penni', 'peopl', 'pep', 'per', 'perdió', 'perfect', 'perfectli', 'perfecto', 'perform', 'perhap', 'period', 'perk', 'perman', 'persist', 'person', 'persuas', 'pet', 'phase', 'phenomen', 'philip', 'philipshu', 'philli', 'phillip', 'phone', 'phonet', 'photo', 'photograph', 'phrase', 'pia', 'pic', 'pick', 'picki', 'pictur', 'piec', 'pin', 'pivot', 'pixel', 'pizza', 'place', 'placement', 'plain', 'plan', 'plane', 'platform', 'play', 'player', 'playlist', 'plea', 'pleasantli', 'pleasedsimpl', 'pleasur', 'plenti', 'plu', 'plug', 'plugin', 'pluto', 'pod', 'podcast', 'point', 'pointless', 'polit', 'pool', 'poop', 'poor', 'pop', 'porch', 'port', 'portabl', 'portion', 'pose', 'posit', 'possibl', 'post', 'poster', 'potenti', 'pound', 'power', 'powercord', 'practic', 'practicalthan', 'pray', 'precious', 'precis', 'prefer', 'premium', 'prepar', 'present', 'preset', 'press', 'presum', 'pretti', 'prettier', 'prevent', 'preview', 'previou', 'previous', 'price', 'pricey', 'primari', 'primarili', 'prime', 'primeday', 'print', 'prior', 'privaci', 'prize', 'pro', 'probabl', 'problem', 'procedur', 'process', 'produc', 'product', 'producto', 'productsand', 'profil', 'program', 'project', 'promis', 'promot', 'promp', 'prompt', 'prop', 'proper', 'properli', 'protect', 'protocol', 'prove', 'provid', 'psycholog', 'pueden', 'pul', 'pull', 'pulsat', 'punch', 'puni', 'pup', 'pur', 'purchas', 'pure', 'purpos', 'push', 'put', 'puzzl', 'qualiti', 'qualti', 'que', 'quedó', 'queri', 'question', 'quick', 'quicker', 'quickli', 'quiet', 'quit', 'quiz', 'quot', 'qvc', 'radio', 'rain', 'rainbow', 'rais', 'rambl', 'ran', 'random', 'randomli', 'rang', 'ranger', 'rapidez', 'rare', 'rariti', 'rate', 'rather', 'rattl', 'rciev', 'reach', 'reactiv', 'read', 'reader', 'readi', 'real', 'realiz', 'realizando', 'realli', 'reason', 'reauthor', 'reboot', 'reccomend', 'receiv', 'receivd', 'recent', 'recept', 'recharg', 'recip', 'recipi', 'recogn', 'recognit', 'recomend', 'recommend', 'recondit', 'reconnect', 'record', 'recur', 'red', 'reduc', 'redund', 'refer', 'refin', 'refund', 'refurb', 'refurbish', 'refurbishedthought', 'regard', 'regardless', 'region', 'regist', 'regret', 'regular', 'regularli', 'rel', 'relat', 'relax', 'relay', 'releas', 'reli', 'reliabl', 'relief', 'remain', 'remedi', 'rememb', 'remind', 'remors', 'remot', 'renam', 'rent', 'reoccur', 'reorder', 'rep', 'repair', 'repeat', 'repertoir', 'replac', 'repli', 'report', 'reportsalarm', 'reput', 'request', 'requir', 'research', 'resembl', 'resempt', 'reset', 'resist', 'resolut', 'resolv', 'respond', 'respons', 'respuesta', 'rest', 'restart', 'restrict', 'result', 'resum', 'retir', 'return', 'returnef', 'review', 'revis', 'reward', 'rid', 'ride', 'ridicul', 'right', 'ring', 'river', 'road', 'rock', 'roku', 'roll', 'room', 'roomba', 'rotat', 'rough', 'round', 'rout', 'router', 'routin', 'row', 'rub', 'rubber', 'run', 'sad', 'sadli', 'safe', 'said', 'sale', 'salsa', 'samsung', 'sang', 'saniti', 'satellit', 'satisfi', 'satisifi', 'save', 'savi', 'savvi', 'saw', 'say', 'scare', 'scene', 'scent', 'schedul', 'school', 'scienc', 'scoop', 'score', 'scottish', 'scour', 'scratch', 'scream', 'screamig', 'screen', 'screenless', 'screenselect', 'screw', 'script', 'scroll', 'se', 'seal', 'seam', 'seamless', 'seamlessli', 'search', 'season', 'second', 'secret', 'secretari', 'section', 'secur', 'see', 'seem', 'seen', 'seldom', 'select', 'self', 'selfi', 'sell', 'semana', 'semi', 'sen', 'send', 'senior', 'sensit', 'sent', 'sentenc', 'separ', 'seprat', 'seri', 'seriou', 'serious', 'seriu', 'serv', 'servic', 'set', 'settin', 'settingshom', 'settl', 'setup', 'sever', 'sew', 'sh', 'shake', 'shape', 'share', 'sharp', 'shell', 'shift', 'shine', 'ship', 'shipment', 'shock', 'shoot', 'shop', 'short', 'shortcom', 'shorter', 'shortli', 'shout', 'show', 'shower', 'showman', 'shown', 'showtim', 'shuffl', 'shut', 'sibl', 'side', 'sigh', 'sight', 'sign', 'signific', 'silli', 'silver', 'similar', 'simpl', 'simpler', 'simpli', 'simplic', 'simplifi', 'simultan', 'sin', 'sinc', 'sing', 'singl', 'singley', 'sink', 'sinqu', 'siri', 'siriu', 'sister', 'sit', 'site', 'situat', 'six', 'size', 'skeptic', 'skill', 'skip', 'skype', 'sleek', 'sleep', 'sleeper', 'sleepi', 'slice', 'slide', 'slideshow', 'slight', 'slightli', 'sling', 'slow', 'slowli', 'sm', 'small', 'smaller', 'smart', 'smartbon', 'smarter', 'smarthom', 'smartphon', 'smartth', 'smell', 'smith', 'smooth', 'smoothli', 'snap', 'snarl', 'sneaki', 'snell', 'snooz', 'soak', 'soccer', 'social', 'socket', 'sofa', 'soft', 'softli', 'softwar', 'sold', 'sole', 'solid', 'solo', 'solución', 'solut', 'solv', 'somebodi', 'somehow', 'someon', 'someth', 'sometim', 'somewhat', 'son', 'song', 'soni', 'sono', 'soon', 'sooner', 'sooo', 'sooooo', 'sooooooo', 'sopt', 'sore', 'sorprendió', 'sorri', 'sort', 'sound', 'soundbar', 'soundlink', 'soundtouch', 'sourc', 'southern', 'spa', 'space', 'spam', 'span', 'spanish', 'spank', 'spark', 'speak', 'speaker', 'spec', 'special', 'specif', 'specifi', 'specifili', 'spectacular', 'speech', 'speed', 'speedi', 'spell', 'spend', 'spent', 'spi', 'spill', 'spin', 'split', 'spoil', 'spoke', 'spoken', 'sport', 'spot', 'spotifi', 'spotlight', 'spous', 'sprinkler', 'sprint', 'spur', 'squirm', 'sri', 'ssdi', 'staff', 'stage', 'stair', 'stand', 'standalon', 'standard', 'star', 'stark', 'start', 'stat', 'state', 'statement', 'station', 'stationari', 'stay', 'steam', 'steep', 'stellar', 'step', 'stereo', 'stick', 'still', 'stimulu', 'stink', 'stole', 'stop', 'storag', 'store', 'stori', 'storm', 'stove', 'straight', 'straightforward', 'strang', 'stream', 'streamlin', 'strictli', 'string', 'strip', 'strong', 'strongli', 'structur', 'struggl', 'stubborn', 'stuck', 'student', 'stuff', 'stump', 'stupid', 'sturdi', 'style', 'stylish', 'su', 'sub', 'subject', 'subpar', 'subscrib', 'subscript', 'subscriptiondo', 'subsequ', 'substitut', 'success', 'successor', 'suck', 'suffer', 'suffici', 'suffolk', 'suggest', 'suitabl', 'summon', 'sunroom', 'supberb', 'super', 'superb', 'superior', 'suppli', 'support', 'suppos', 'sure', 'surfac', 'surpris', 'surprisingli', 'surviv', 'sweet', 'swell', 'swipe', 'switch', 'sync', 'synch', 'system', 'tabl', 'tablet', 'tad', 'tailor', 'take', 'taken', 'tale', 'talk', 'tall', 'taller', 'tap', 'tape', 'tardi', 'tasha', 'task', 'teacher', 'team', 'tear', 'tec', 'tech', 'techi', 'technic', 'technician', 'techno', 'technolog', 'teenag', 'teeth', 'tekki', 'telephon', 'televis', 'tell', 'temp', 'temperatur', 'tempt', 'ten', 'tend', 'terminolog', 'terribl', 'terrif', 'test', 'texa', 'text', 'tg', 'tge', 'thank', 'that', 'theater', 'theecho', 'theme', 'theori', 'therefor', 'thermostat', 'thete', 'thick', 'thing', 'think', 'third', 'thong', 'thorough', 'thoroughli', 'thou', 'though', 'thought', 'thousand', 'three', 'thrill', 'throughout', 'throw', 'thrown', 'thru', 'thumb', 'thunderstorm', 'thursday', 'ti', 'tickl', 'tie', 'tiempo', 'tien', 'til', 'till', 'time', 'timer', 'tin', 'ting', 'tini', 'tinker', 'tinni', 'tip', 'tire', 'titl', 'tivo', 'toda', 'today', 'toddler', 'togeth', 'toilet', 'told', 'tomi', 'tomorrow', 'ton', 'tone', 'toni', 'took', 'tool', 'tooth', 'top', 'topic', 'tosca', 'total', 'totallli', 'tou', 'touch', 'tout', 'toward', 'tower', 'town', 'toy', 'track', 'tradit', 'traffic', 'trailer', 'train', 'traine', 'transfer', 'travel', 'travé', 'treadmil', 'treat', 'trebl', 'trek', 'tremend', 'trend', 'tri', 'trial', 'trick', 'tricki', 'trigger', 'trip', 'trivia', 'troubl', 'troubleshoot', 'troublesom', 'true', 'truli', 'trust', 'tube', 'tubi', 'tune', 'tunein', 'turn', 'tv', 'tweeter', 'twice', 'twist', 'twitter', 'two', 'ty', 'type', 'typic', 'título', 'ude', 'ugli', 'uhyour', 'ummm', 'un', 'unabl', 'unavail', 'unbeliev', 'uncl', 'underestim', 'understand', 'understood', 'unexpect', 'unfortun', 'unhappi', 'unhelp', 'unico', 'unimport', 'uniqu', 'unit', 'univers', 'unless', 'unlik', 'unlimit', 'unlock', 'unnannounc', 'unnecessari', 'unobtrus', 'unplug', 'unrespons', 'unsettl', 'untap', 'unus', 'unwitti', 'unwrap', 'upcom', 'updat', 'upgrad', 'upload', 'upon', 'upset', 'upstair', 'urg', 'usa', 'usabl', 'usag', 'usb', 'usd', 'use', 'useless', 'user', 'usual', 'util', 'utilización', 'vacat', 'vacuum', 'valu', 'variant', 'varieti', 'variou', 'vast', 'vehicl', 'verbal', 'vers', 'versa', 'versatil', 'version', 'versu', 'vet', 'vez', 'via', 'vibrat', 'vice', 'viceo', 'video', 'view', 'vintag', 'viola', 'virtual', 'visa', 'visibl', 'vision', 'visit', 'visual', 'vlan', 'voic', 'voiceview', 'voila', 'voltag', 'voltson', 'volum', 'vudu', 'wait', 'wake', 'walk', 'wall', 'want', 'warehous', 'warn', 'warranti', 'wasconcern', 'wasnt', 'wast', 'watch', 'water', 'wattag', 'wave', 'way', 'weak', 'wealth', 'wear', 'weari', 'weather', 'web', 'websit', 'wed', 'week', 'weekday', 'weekend', 'weekli', 'weight', 'weird', 'welcom', 'well', 'wellfour', 'went', 'what', 'whatev', 'whatsoev', 'whe', 'whenev', 'wherev', 'whether', 'whisper', 'whistl', 'white', 'who', 'whole', 'whose', 'wi', 'wide', 'widespread', 'wife', 'wifi', 'wikipedia', 'will', 'wind', 'window', 'wink', 'wireless', 'wish', 'within', 'without', 'wo', 'woke', 'woken', 'wonder', 'wont', 'woofer', 'woohoo', 'word', 'work', 'workaround', 'workout', 'workreat', 'world', 'worri', 'worst', 'worth', 'worthi', 'worthless', 'would', 'wow', 'write', 'wrong', 'xbox', 'xfiniti', 'xm', 'yale', 'yard', 'ye', 'yeah', 'year', 'yell', 'yellow', 'yep', 'yesterday', 'yet', 'yhe', 'york', 'young', 'younger', 'youngest', 'youtub', 'yr', 'yup', 'zero', 'zigbe', 'zzzz', 'zzzzzzz', 'útil']\n"
          ]
        }
      ],
      "source": [
        "from sklearn.feature_extraction.text import CountVectorizer\n",
        "\n",
        "vectoriser = CountVectorizer()\n",
        "X = vectoriser.fit_transform(reviews)\n",
        "print(\"Bag of Words\")\n",
        "print(vectoriser.get_feature_names())\n"
      ]
    },
    {
      "cell_type": "code",
      "execution_count": null,
      "metadata": {
        "id": "eK7fiAPGCbEZ",
        "outputId": "5ac15f73-9a3b-4f51-deb2-9edcea6d0584"
      },
      "outputs": [
        {
          "name": "stdout",
          "output_type": "stream",
          "text": [
            "[[0 0 0 ... 0 0 0]\n",
            " [0 0 0 ... 0 0 0]\n",
            " [0 0 0 ... 0 0 0]\n",
            " ...\n",
            " [0 0 0 ... 0 0 0]\n",
            " [0 0 0 ... 0 0 0]\n",
            " [0 0 0 ... 0 0 0]]\n"
          ]
        }
      ],
      "source": [
        "# printing vectors\n",
        "print(X.toarray())"
      ]
    },
    {
      "cell_type": "code",
      "execution_count": null,
      "metadata": {
        "id": "pQ1Mq1XBCbEZ",
        "outputId": "c5d2de4b-9d8b-4eca-c0c0-dceb9eef6392"
      },
      "outputs": [
        {
          "data": {
            "text/plain": [
              "(3150, 2701)"
            ]
          },
          "execution_count": 15,
          "metadata": {},
          "output_type": "execute_result"
        }
      ],
      "source": [
        "# Shape of vector\n",
        "X.shape"
      ]
    },
    {
      "cell_type": "markdown",
      "source": [
        "# Create representation of Review Text by calculating Term Frequency and Inverse Document Frequency (TF-IDF)\n"
      ],
      "metadata": {
        "id": "C4pUNOviECzB"
      }
    },
    {
      "cell_type": "code",
      "execution_count": null,
      "metadata": {
        "id": "3EoQddqcCbEa",
        "outputId": "ce9bb11d-ec86-498f-ec99-ee9db3cd54bc"
      },
      "outputs": [
        {
          "name": "stdout",
          "output_type": "stream",
          "text": [
            "TFIDF:\n",
            "['abay', 'abc', 'abd', 'abil', 'abl', 'abod', 'absolut', 'absolutli', 'ac', 'accent', 'accept', 'access', 'accessori', 'accid', 'accident', 'accompani', 'accomplish', 'accord', 'accordingli', 'account', 'accur', 'accuraci', 'accustom', 'acknowledg', 'acoust', 'across', 'act', 'action', 'activ', 'actual', 'ad', 'adapt', 'add', 'addict', 'addit', 'addon', 'address', 'adept', 'adequ', 'adjac', 'adjust', 'admit', 'adopt', 'ador', 'adult', 'advanc', 'advantag', 'advertis', 'advic', 'advis', 'aesthet', 'af', 'affirm', 'afford', 'afraid', 'afternoon', 'afterward', 'age', 'agent', 'ago', 'agre', 'agreement', 'ahead', 'ai', 'aid', 'aint', 'air', 'aka', 'al', 'alabama', 'alarm', 'albeit', 'alcohol', 'alert', 'alex', 'alexa', 'alexi', 'alexia', 'alexu', 'algo', 'aliv', 'allevi', 'allow', 'allrecip', 'almost', 'alon', 'along', 'alongsid', 'alot', 'aloud', 'alread', 'alreadi', 'alright', 'also', 'alter', 'altern', 'although', 'alway', 'amaonmaz', 'amax', 'amaz', 'amazin', 'amazingli', 'amazo', 'amazon', 'amazonia', 'ambient', 'american', 'among', 'amount', 'amozon', 'amplifi', 'amus', 'analog', 'and', 'android', 'angl', 'annoy', 'anoth', 'answer', 'ant', 'anticip', 'anybodi', 'anyhow', 'anylist', 'anymor', 'anyon', 'anypod', 'anyth', 'anytim', 'anyway', 'anywher', 'apart', 'app', 'appar', 'appeal', 'appear', 'appl', 'applianc', 'applic', 'appoint', 'appreci', 'apprehens', 'approach', 'appropri', 'approxim', 'area', 'arent', 'argu', 'argument', 'aris', 'arlo', 'arm', 'around', 'array', 'arriv', 'articl', 'artist', 'as', 'asap', 'ase', 'ask', 'asleep', 'aspect', 'assign', 'assist', 'assum', 'assumpt', 'atención', 'atmospher', 'atrá', 'attach', 'attempt', 'attent', 'attract', 'audibl', 'audio', 'audioappl', 'audiobook', 'audiophil', 'august', 'aunt', 'auto', 'autom', 'automat', 'aux', 'auxiliari', 'av', 'avail', 'avoid', 'aw', 'awak', 'awar', 'away', 'awesom', 'awhil', 'awkward', 'awsom', 'babi', 'back', 'background', 'backyard', 'bad', 'baffl', 'ball', 'ban', 'band', 'bandwagon', 'bandwidth', 'bang', 'bar', 'bare', 'bargain', 'bark', 'barn', 'barret', 'barri', 'base', 'basebal', 'basement', 'basic', 'bass', 'bathroom', 'batman', 'batteri', 'bc', 'beam', 'beat', 'beauti', 'becam', 'becauss', 'becom', 'bed', 'bedroom', 'bedsid', 'bedtim', 'beefi', 'begin', 'beginn', 'begun', 'behav', 'behind', 'believ', 'bell', 'belong', 'benefit', 'besid', 'best', 'bet', 'beta', 'better', 'bettter', 'beyond', 'bezel', 'bezo', 'bf', 'bff', 'bibl', 'big', 'bigger', 'biggest', 'bill', 'billboard', 'bing', 'birth', 'birthday', 'bit', 'bizarr', 'black', 'blanket', 'blast', 'bless', 'blind', 'blink', 'block', 'blood', 'bloomberg', 'blow', 'blown', 'blue', 'blueprint', 'bluetooth', 'blur', 'board', 'boat', 'bob', 'bodi', 'bolt', 'bonker', 'bonu', 'book', 'boom', 'boombox', 'boost', 'bore', 'born', 'bos', 'bose', 'bot', 'bother', 'bothersom', 'bottom', 'bough', 'bought', 'box', 'boyfriend', 'brand', 'brandnew', 'bread', 'break', 'breakfast', 'breez', 'bridg', 'brief', 'bright', 'bring', 'british', 'broadway', 'broke', 'broken', 'brought', 'bt', 'buck', 'buddi', 'budget', 'buffer', 'buffet', 'bug', 'build', 'built', 'bulb', 'buld', 'bulki', 'bum', 'bunch', 'bundl', 'burn', 'busi', 'but', 'button', 'buy', 'buyer', 'buzz', 'bye', 'ca', 'cabl', 'calendar', 'call', 'calm', 'calmer', 'cam', 'cambiar', 'came', 'camelot', 'camera', 'campu', 'canari', 'cancel', 'cant', 'capabl', 'capac', 'capas', 'car', 'card', 'cardsrot', 'care', 'careless', 'carolina', 'carri', 'carrier', 'cart', 'cartoon', 'case', 'cat', 'catch', 'categori', 'caus', 'cave', 'cb', 'cd', 'ceas', 'ceil', 'celeb', 'cell', 'cellphon', 'cent', 'center', 'certain', 'certainli', 'certifi', 'chachki', 'chair', 'chalk', 'challeng', 'champ', 'chanc', 'chang', 'changer', 'channel', 'characterist', 'charg', 'chargeabl', 'charger', 'charlott', 'charm', 'chart', 'chat', 'cheap', 'cheaper', 'cheapest', 'check', 'child', 'childhood', 'chocol', 'choic', 'choos', 'choppi', 'chore', 'chose', 'chosen', 'christma', 'chromebook', 'chromecast', 'circl', 'citi', 'citizen', 'clapper', 'clariti', 'class', 'classic', 'classroom', 'clean', 'cleaner', 'clear', 'clearer', 'clearli', 'click', 'client', 'clip', 'clock', 'clockhom', 'clone', 'close', 'closer', 'cloth', 'cloud', 'clue', 'cnn', 'coast', 'code', 'coffe', 'cohes', 'collect', 'collector', 'colleg', 'colon', 'color', 'comand', 'combin', 'come', 'comelet', 'comfort', 'command', 'comment', 'commerci', 'commod', 'common', 'commun', 'commut', 'como', 'compac', 'compact', 'compani', 'companion', 'compar', 'compat', 'competit', 'complain', 'complaint', 'complet', 'complic', 'compliment', 'compon', 'compound', 'comput', 'con', 'concept', 'concern', 'concis', 'condit', 'conectado', 'conferenc', 'confid', 'configur', 'conflict', 'confus', 'connect', 'consciou', 'consid', 'consist', 'conspiraci', 'constant', 'constantli', 'construct', 'consult', 'consum', 'contact', 'contain', 'content', 'contin', 'continu', 'control', 'conveni', 'convers', 'convert', 'convinc', 'cook', 'cool', 'cooler', 'coolest', 'coop', 'coordin', 'cord', 'cordless', 'cordthank', 'core', 'correct', 'correctli', 'correspond', 'cortna', 'cost', 'cotton', 'couch', 'could', 'counter', 'counti', 'countless', 'countri', 'coupl', 'cours', 'cousin', 'cover', 'cozi', 'cpr', 'crack', 'crackl', 'crap', 'crappi', 'crash', 'crazi', 'creapi', 'creat', 'credit', 'creepi', 'crib', 'crisp', 'critic', 'crop', 'cross', 'crunchyrol', 'csi', 'cualquier', 'cue', 'cumbersom', 'cup', 'cur', 'current', 'curv', 'custom', 'customiz', 'cut', 'cute', 'cuti', 'cycl', 'cylind', 'cylinderc', 'dad', 'daili', 'damag', 'danc', 'dare', 'dark', 'darn', 'dash', 'data', 'date', 'daughter', 'day', 'de', 'deactiv', 'dead', 'deaf', 'deal', 'debat', 'dec', 'decent', 'decid', 'decis', 'deck', 'decor', 'decreas', 'dedic', 'deep', 'deeper', 'default', 'defeat', 'defect', 'defenc', 'defent', 'defin', 'definit', 'degre', 'del', 'delay', 'delet', 'deliv', 'deliveri', 'demand', 'dementia', 'den', 'denon', 'dent', 'depart', 'depend', 'deploy', 'depreci', 'depth', 'describ', 'descript', 'design', 'desir', 'desk', 'despit', 'detail', 'detect', 'determin', 'develop', 'devi', 'devic', 'deviceoveral', 'dhiw', 'diagnost', 'dial', 'dictionari', 'didnt', 'die', 'differ', 'differenti', 'difficult', 'difficulti', 'dig', 'digit', 'digitol', 'dim', 'dimat', 'dimens', 'dimmer', 'dine', 'dinner', 'dinosaur', 'direct', 'directli', 'directtv', 'directv', 'disabl', 'disagre', 'disappoint', 'disarm', 'disast', 'disconcert', 'disconnect', 'discount', 'discourag', 'discov', 'discoveredthat', 'discoveri', 'dish', 'dislik', 'dismiss', 'display', 'dispos', 'dissatisfact', 'distanc', 'distort', 'distract', 'disturb', 'ditch', 'diver', 'divertido', 'dj', 'dock', 'doctor', 'dodg', 'doesnt', 'dog', 'dollar', 'domain', 'done', 'dont', 'door', 'doorbel', 'dorm', 'dot', 'doubt', 'downfal', 'download', 'downright', 'downsid', 'downstair', 'drag', 'draw', 'drawback', 'dress', 'drive', 'driven', 'driver', 'drop', 'dryer', 'due', 'dumb', 'dumber', 'dunc', 'dunno', 'dust', 'duti', 'dylan', 'ea', 'ear', 'earli', 'earn', 'easi', 'easier', 'easili', 'east', 'eavesdrop', 'echo', 'echoplu', 'eco', 'ecoo', 'ecosystem', 'ed', 'edg', 'edit', 'educ', 'eeaanh', 'effect', 'effici', 'effort', 'effortless', 'eg', 'eh', 'either', 'el', 'elderli', 'electeon', 'electr', 'electrician', 'electron', 'eleg', 'element', 'elimin', 'elsewher', 'em', 'email', 'embarrass', 'emerg', 'emoji', 'employe', 'en', 'enabl', 'encyclopedia', 'end', 'endless', 'engag', 'engin', 'english', 'enhanc', 'enjoy', 'enough', 'enrol', 'enter', 'entertain', 'entir', 'entri', 'eq', 'equal', 'equip', 'equipo', 'error', 'escencia', 'esp', 'espanol', 'español', 'especi', 'essenti', 'est', 'esta', 'estar', 'estudio', 'esté', 'etc', 'etekc', 'ethernet', 'evalu', 'even', 'event', 'eventu', 'ever', 'everi', 'everybodi', 'everyday', 'everyon', 'everyth', 'everytim', 'everywher', 'eveyday', 'evolv', 'evryth', 'ex', 'exact', 'exactli', 'exampl', 'exce', 'exceed', 'excel', 'excelent', 'except', 'excess', 'exchang', 'excit', 'excus', 'exho', 'exist', 'expand', 'expect', 'expens', 'experi', 'experienc', 'expert', 'expir', 'explan', 'explicit', 'explor', 'extend', 'extens', 'extent', 'extern', 'extra', 'extrem', 'extrimelli', 'eye', 'fabric', 'fabul', 'face', 'facebook', 'facetim', 'fact', 'factor', 'factori', 'fail', 'fair', 'fairli', 'fall', 'fals', 'famili', 'familiar', 'fan', 'fanat', 'fantast', 'far', 'farther', 'fascin', 'fashion', 'fast', 'faster', 'fat', 'father', 'fault', 'faulti', 'favorit', 'featu', 'featur', 'fee', 'feed', 'feedback', 'feee', 'feel', 'fell', 'felt', 'fenc', 'fi', 'fianc', 'fidel', 'figur', 'fill', 'final', 'find', 'fine', 'fingertip', 'finicki', 'finish', 'fio', 'fire', 'firestick', 'firmar', 'firmwar', 'first', 'fit', 'five', 'fix', 'fixtur', 'flash', 'flat', 'flaw', 'flawless', 'flawlessli', 'flexibl', 'flicker', 'floor', 'fm', 'folk', 'follow', 'font', 'foot', 'footbal', 'footprint', 'forc', 'forecast', 'forev', 'forget', 'forgot', 'forgotten', 'forjust', 'form', 'forth', 'fortun', 'forum', 'forward', 'found', 'four', 'fourth', 'free', 'freez', 'frequent', 'fri', 'friday', 'friend', 'friendli', 'front', 'frustrat', 'full', 'fuller', 'fulli', 'fumbl', 'fun', 'funcion', 'funciona', 'funcionamiento', 'function', 'funni', 'furthermor', 'fuss', 'fussi', 'futur', 'fw', 'gadget', 'gain', 'galaxi', 'game', 'gap', 'garag', 'garbag', 'gateway', 'gather', 'gave', 'gazebo', 'gb', 'ge', 'gear', 'geek', 'gen', 'gender', 'gener', 'genial', 'genr', 'geo', 'get', 'gf', 'ghost', 'gift', 'girl', 'girlfriend', 'give', 'given', 'gizmo', 'glad', 'glare', 'glass', 'glitch', 'glorifi', 'glow', 'go', 'god', 'godsend', 'goe', 'golden', 'gone', 'goo', 'good', 'goodi', 'goodmorn', 'googl', 'got', 'gotten', 'govern', 'grab', 'grace', 'grand', 'grandaught', 'grandchild', 'granddaught', 'grandfath', 'grandkid', 'grandmoth', 'grandpar', 'grandson', 'granit', 'grant', 'graphic', 'gratament', 'great', 'greater', 'greatest', 'greatli', 'green', 'greet', 'grip', 'gripe', 'groceri', 'groggi', 'ground', 'group', 'grow', 'grownup', 'guarante', 'guard', 'guess', 'guest', 'guid', 'guilti', 'guy', 'habit', 'habla', 'haha', 'hahaawesom', 'hahahaha', 'hair', 'hal', 'half', 'hallway', 'hand', 'handi', 'handl', 'hang', 'happen', 'happi', 'happier', 'hard', 'hardcor', 'harder', 'hardli', 'harmoni', 'harvard', 'hassel', 'hassl', 'hate', 'hauler', 'havent', 'haywir', 'hbo', 'hcfe', 'hd', 'hdmi', 'he', 'head', 'headlin', 'headphon', 'heal', 'hear', 'heard', 'heart', 'heaven', 'heavi', 'heck', 'hectic', 'hel', 'held', 'hell', 'help', 'helper', 'henc', 'hesit', 'hey', 'hi', 'hiccup', 'hide', 'high', 'higher', 'highest', 'highli', 'hint', 'hire', 'histori', 'hit', 'hmm', 'hmmm', 'hmmmm', 'hold', 'holder', 'hole', 'holi', 'holiday', 'home', 'homescreen', 'homework', 'honest', 'honestli', 'hong', 'hook', 'hope', 'hora', 'horribl', 'hors', 'hospit', 'host', 'hot', 'hotel', 'hour', 'hous', 'household', 'howev', 'hr', 'http', 'hub', 'hubbi', 'hue', 'huel', 'huge', 'hulu', 'human', 'humour', 'hundr', 'husband', 'hut', 'hvac', 'hype', 'id', 'idea', 'ideal', 'if', 'ight', 'ignor', 'iheart', 'iheartradio', 'ihom', 'ii', 'illustr', 'im', 'imag', 'imagin', 'imhav', 'immedi', 'impair', 'imped', 'imperfect', 'implement', 'import', 'importantli', 'impress', 'improv', 'impuls', 'imrprov', 'imu', 'inabl', 'inact', 'includ', 'inclus', 'incom', 'inconveni', 'incorpor', 'increas', 'incred', 'india', 'indic', 'indispens', 'individu', 'indoor', 'indund', 'industri', 'inexpens', 'inexperi', 'infact', 'inferior', 'info', 'inform', 'información', 'infotain', 'initi', 'inlin', 'innov', 'input', 'insan', 'insert', 'insid', 'insist', 'inspir', 'instal', 'instant', 'instantan', 'instantli', 'instead', 'instruct', 'integr', 'intelag', 'inteligent', 'intellig', 'intend', 'intent', 'interact', 'intercom', 'interest', 'interfac', 'interfer', 'intermitt', 'intern', 'internet', 'interpret', 'interrog', 'interrupt', 'intimid', 'introduc', 'introduct', 'intrus', 'intuit', 'invas', 'invent', 'invest', 'invit', 'involv', 'iot', 'iov', 'ipad', 'ipdat', 'iphon', 'irrit', 'ise', 'ish', 'island', 'isnt', 'isol', 'issu', 'isu', 'ita', 'itali', 'italian', 'item', 'itun', 'iy', 'jack', 'jacuzzi', 'jam', 'jaw', 'jazz', 'jeapordi', 'jeff', 'jeopardi', 'jetson', 'jimmi', 'job', 'johnni', 'join', 'joke', 'journey', 'joy', 'jump', 'june', 'junk', 'kasa', 'keen', 'keep', 'keeper', 'kept', 'key', 'keyboard', 'kick', 'kid', 'killer', 'kind', 'kinda', 'kindl', 'king', 'kitchen', 'knee', 'knew', 'knob', 'knock', 'know', 'knowledg', 'known', 'kodi', 'kong', 'korea', 'kwikset', 'la', 'label', 'lack', 'ladi', 'lag', 'lame', 'lamp', 'land', 'languag', 'lap', 'laptop', 'larg', 'larger', 'last', 'lastli', 'late', 'later', 'laud', 'laugh', 'laughter', 'laundri', 'law', 'lay', 'layer', 'lazi', 'lcd', 'le', 'lean', 'leari', 'learn', 'learnimg', 'least', 'leav', 'led', 'left', 'leg', 'legal', 'leisur', 'length', 'lesson', 'let', 'level', 'lg', 'librari', 'life', 'lifetim', 'lifht', 'light', 'lightbulb', 'lighten', 'lightn', 'like', 'lil', 'lilttl', 'limit', 'line', 'link', 'list', 'listen', 'lit', 'liter', 'littl', 'live', 'livingroom', 'llama', 'llegó', 'lm', 'lo', 'load', 'local', 'locat', 'lock', 'logitech', 'logo', 'logra', 'lol', 'lolol', 'lone', 'long', 'longer', 'longev', 'loo', 'look', 'looooooov', 'lose', 'loss', 'lost', 'lot', 'loud', 'louder', 'loui', 'lov', 'love', 'lover', 'low', 'lower', 'luck', 'lucki', 'luckili', 'lullabi', 'lurk', 'luv', 'lve', 'lyric', 'mac', 'machin', 'madden', 'made', 'madlib', 'magic', 'mail', 'main', 'mainli', 'mainstream', 'maintain', 'maje', 'majel', 'major', 'make', 'male', 'malon', 'mama', 'man', 'manag', 'mandatori', 'maneuv', 'mani', 'manner', 'manual', 'manufactur', 'margin', 'mark', 'market', 'marvel', 'massiv', 'match', 'materi', 'matter', 'maxim', 'may', 'mayb', 'mb', 'mean', 'meaning', 'meant', 'medic', 'mediocr', 'medit', 'medium', 'meh', 'member', 'membership', 'memori', 'mention', 'menu', 'mere', 'mess', 'messag', 'met', 'metro', 'mexico', 'mi', 'miami', 'mic', 'microphon', 'mid', 'middl', 'might', 'mile', 'million', 'mimic', 'min', 'mind', 'mindset', 'mine', 'mini', 'minim', 'minimum', 'minor', 'minorli', 'mint', 'minut', 'mirror', 'misl', 'misplac', 'miss', 'mistak', 'misunderstand', 'mix', 'moana', 'mobil', 'mode', 'model', 'modern', 'mom', 'moment', 'money', 'monitor', 'month', 'monthli', 'mood', 'morn', 'mostli', 'mother', 'motiv', 'motown', 'mount', 'move', 'movi', 'mu', 'much', 'muffl', 'multi', 'multipl', 'music', 'must', 'mute', 'muy', 'mybedroom', 'múltipl', 'na', 'name', 'nana', 'nanni', 'nativ', 'natur', 'navig', 'naw', 'nbc', 'nbsp', 'nc', 'nd', 'ne', 'near', 'nearli', 'neat', 'necess', 'need', 'neg', 'neighbor', 'neither', 'nephew', 'nervana', 'nervou', 'nest', 'net', 'netflix', 'network', 'never', 'new', 'newer', 'newest', 'news', 'newsflash', 'nexia', 'next', 'nfl', 'ni', 'nice', 'nicer', 'niec', 'nigh', 'night', 'nightmar', 'nightstand', 'nil', 'nit', 'nite', 'no', 'nobodi', 'noi', 'nois', 'non', 'none', 'nonsens', 'nope', 'norm', 'normal', 'north', 'note', 'noth', 'notic', 'notif', 'notifi', 'novelti', 'nowher', 'npr', 'nrw', 'nsa', 'nudg', 'numb', 'number', 'numer', 'nurs', 'nut', 'ny', 'ob', 'obtrus', 'obviou', 'occas', 'occasion', 'ocean', 'odd', 'of', 'offer', 'offic', 'offici', 'often', 'oh', 'ok', 'okay', 'old', 'older', 'oldest', 'olor', 'omg', 'onceproblem', 'one', 'onetim', 'onlin', 'onm', 'onto', 'oop', 'open', 'oper', 'opera', 'opinion', 'opportun', 'opt', 'optic', 'optimum', 'option', 'orang', 'orchestra', 'order', 'organ', 'orient', 'origin', 'original', 'other', 'otherwis', 'outdoor', 'outlet', 'output', 'outrag', 'outsid', 'outsmart', 'outstand', 'oven', 'overa', 'overal', 'overcom', 'overh', 'overpr', 'overrid', 'overtim', 'overview', 'overwhelm', 'owe', 'owlhead', 'own', 'owner', 'pack', 'packag', 'page', 'paid', 'pain', 'pair', 'pamphlet', 'pandora', 'pant', 'paper', 'par', 'paranoid', 'pare', 'parent', 'park', 'paroduct', 'part', 'parti', 'particip', 'particular', 'particularli', 'partner', 'pas', 'password', 'past', 'patch', 'patienc', 'patient', 'patio', 'pattern', 'paus', 'pay', 'pc', 'película', 'pen', 'pencil', 'penni', 'peopl', 'pep', 'per', 'perdió', 'perfect', 'perfectli', 'perfecto', 'perform', 'perhap', 'period', 'perk', 'perman', 'persist', 'person', 'persuas', 'pet', 'phase', 'phenomen', 'philip', 'philipshu', 'philli', 'phillip', 'phone', 'phonet', 'photo', 'photograph', 'phrase', 'pia', 'pic', 'pick', 'picki', 'pictur', 'piec', 'pin', 'pivot', 'pixel', 'pizza', 'place', 'placement', 'plain', 'plan', 'plane', 'platform', 'play', 'player', 'playlist', 'plea', 'pleasantli', 'pleasedsimpl', 'pleasur', 'plenti', 'plu', 'plug', 'plugin', 'pluto', 'pod', 'podcast', 'point', 'pointless', 'polit', 'pool', 'poop', 'poor', 'pop', 'porch', 'port', 'portabl', 'portion', 'pose', 'posit', 'possibl', 'post', 'poster', 'potenti', 'pound', 'power', 'powercord', 'practic', 'practicalthan', 'pray', 'precious', 'precis', 'prefer', 'premium', 'prepar', 'present', 'preset', 'press', 'presum', 'pretti', 'prettier', 'prevent', 'preview', 'previou', 'previous', 'price', 'pricey', 'primari', 'primarili', 'prime', 'primeday', 'print', 'prior', 'privaci', 'prize', 'pro', 'probabl', 'problem', 'procedur', 'process', 'produc', 'product', 'producto', 'productsand', 'profil', 'program', 'project', 'promis', 'promot', 'promp', 'prompt', 'prop', 'proper', 'properli', 'protect', 'protocol', 'prove', 'provid', 'psycholog', 'pueden', 'pul', 'pull', 'pulsat', 'punch', 'puni', 'pup', 'pur', 'purchas', 'pure', 'purpos', 'push', 'put', 'puzzl', 'qualiti', 'qualti', 'que', 'quedó', 'queri', 'question', 'quick', 'quicker', 'quickli', 'quiet', 'quit', 'quiz', 'quot', 'qvc', 'radio', 'rain', 'rainbow', 'rais', 'rambl', 'ran', 'random', 'randomli', 'rang', 'ranger', 'rapidez', 'rare', 'rariti', 'rate', 'rather', 'rattl', 'rciev', 'reach', 'reactiv', 'read', 'reader', 'readi', 'real', 'realiz', 'realizando', 'realli', 'reason', 'reauthor', 'reboot', 'reccomend', 'receiv', 'receivd', 'recent', 'recept', 'recharg', 'recip', 'recipi', 'recogn', 'recognit', 'recomend', 'recommend', 'recondit', 'reconnect', 'record', 'recur', 'red', 'reduc', 'redund', 'refer', 'refin', 'refund', 'refurb', 'refurbish', 'refurbishedthought', 'regard', 'regardless', 'region', 'regist', 'regret', 'regular', 'regularli', 'rel', 'relat', 'relax', 'relay', 'releas', 'reli', 'reliabl', 'relief', 'remain', 'remedi', 'rememb', 'remind', 'remors', 'remot', 'renam', 'rent', 'reoccur', 'reorder', 'rep', 'repair', 'repeat', 'repertoir', 'replac', 'repli', 'report', 'reportsalarm', 'reput', 'request', 'requir', 'research', 'resembl', 'resempt', 'reset', 'resist', 'resolut', 'resolv', 'respond', 'respons', 'respuesta', 'rest', 'restart', 'restrict', 'result', 'resum', 'retir', 'return', 'returnef', 'review', 'revis', 'reward', 'rid', 'ride', 'ridicul', 'right', 'ring', 'river', 'road', 'rock', 'roku', 'roll', 'room', 'roomba', 'rotat', 'rough', 'round', 'rout', 'router', 'routin', 'row', 'rub', 'rubber', 'run', 'sad', 'sadli', 'safe', 'said', 'sale', 'salsa', 'samsung', 'sang', 'saniti', 'satellit', 'satisfi', 'satisifi', 'save', 'savi', 'savvi', 'saw', 'say', 'scare', 'scene', 'scent', 'schedul', 'school', 'scienc', 'scoop', 'score', 'scottish', 'scour', 'scratch', 'scream', 'screamig', 'screen', 'screenless', 'screenselect', 'screw', 'script', 'scroll', 'se', 'seal', 'seam', 'seamless', 'seamlessli', 'search', 'season', 'second', 'secret', 'secretari', 'section', 'secur', 'see', 'seem', 'seen', 'seldom', 'select', 'self', 'selfi', 'sell', 'semana', 'semi', 'sen', 'send', 'senior', 'sensit', 'sent', 'sentenc', 'separ', 'seprat', 'seri', 'seriou', 'serious', 'seriu', 'serv', 'servic', 'set', 'settin', 'settingshom', 'settl', 'setup', 'sever', 'sew', 'sh', 'shake', 'shape', 'share', 'sharp', 'shell', 'shift', 'shine', 'ship', 'shipment', 'shock', 'shoot', 'shop', 'short', 'shortcom', 'shorter', 'shortli', 'shout', 'show', 'shower', 'showman', 'shown', 'showtim', 'shuffl', 'shut', 'sibl', 'side', 'sigh', 'sight', 'sign', 'signific', 'silli', 'silver', 'similar', 'simpl', 'simpler', 'simpli', 'simplic', 'simplifi', 'simultan', 'sin', 'sinc', 'sing', 'singl', 'singley', 'sink', 'sinqu', 'siri', 'siriu', 'sister', 'sit', 'site', 'situat', 'six', 'size', 'skeptic', 'skill', 'skip', 'skype', 'sleek', 'sleep', 'sleeper', 'sleepi', 'slice', 'slide', 'slideshow', 'slight', 'slightli', 'sling', 'slow', 'slowli', 'sm', 'small', 'smaller', 'smart', 'smartbon', 'smarter', 'smarthom', 'smartphon', 'smartth', 'smell', 'smith', 'smooth', 'smoothli', 'snap', 'snarl', 'sneaki', 'snell', 'snooz', 'soak', 'soccer', 'social', 'socket', 'sofa', 'soft', 'softli', 'softwar', 'sold', 'sole', 'solid', 'solo', 'solución', 'solut', 'solv', 'somebodi', 'somehow', 'someon', 'someth', 'sometim', 'somewhat', 'son', 'song', 'soni', 'sono', 'soon', 'sooner', 'sooo', 'sooooo', 'sooooooo', 'sopt', 'sore', 'sorprendió', 'sorri', 'sort', 'sound', 'soundbar', 'soundlink', 'soundtouch', 'sourc', 'southern', 'spa', 'space', 'spam', 'span', 'spanish', 'spank', 'spark', 'speak', 'speaker', 'spec', 'special', 'specif', 'specifi', 'specifili', 'spectacular', 'speech', 'speed', 'speedi', 'spell', 'spend', 'spent', 'spi', 'spill', 'spin', 'split', 'spoil', 'spoke', 'spoken', 'sport', 'spot', 'spotifi', 'spotlight', 'spous', 'sprinkler', 'sprint', 'spur', 'squirm', 'sri', 'ssdi', 'staff', 'stage', 'stair', 'stand', 'standalon', 'standard', 'star', 'stark', 'start', 'stat', 'state', 'statement', 'station', 'stationari', 'stay', 'steam', 'steep', 'stellar', 'step', 'stereo', 'stick', 'still', 'stimulu', 'stink', 'stole', 'stop', 'storag', 'store', 'stori', 'storm', 'stove', 'straight', 'straightforward', 'strang', 'stream', 'streamlin', 'strictli', 'string', 'strip', 'strong', 'strongli', 'structur', 'struggl', 'stubborn', 'stuck', 'student', 'stuff', 'stump', 'stupid', 'sturdi', 'style', 'stylish', 'su', 'sub', 'subject', 'subpar', 'subscrib', 'subscript', 'subscriptiondo', 'subsequ', 'substitut', 'success', 'successor', 'suck', 'suffer', 'suffici', 'suffolk', 'suggest', 'suitabl', 'summon', 'sunroom', 'supberb', 'super', 'superb', 'superior', 'suppli', 'support', 'suppos', 'sure', 'surfac', 'surpris', 'surprisingli', 'surviv', 'sweet', 'swell', 'swipe', 'switch', 'sync', 'synch', 'system', 'tabl', 'tablet', 'tad', 'tailor', 'take', 'taken', 'tale', 'talk', 'tall', 'taller', 'tap', 'tape', 'tardi', 'tasha', 'task', 'teacher', 'team', 'tear', 'tec', 'tech', 'techi', 'technic', 'technician', 'techno', 'technolog', 'teenag', 'teeth', 'tekki', 'telephon', 'televis', 'tell', 'temp', 'temperatur', 'tempt', 'ten', 'tend', 'terminolog', 'terribl', 'terrif', 'test', 'texa', 'text', 'tg', 'tge', 'thank', 'that', 'theater', 'theecho', 'theme', 'theori', 'therefor', 'thermostat', 'thete', 'thick', 'thing', 'think', 'third', 'thong', 'thorough', 'thoroughli', 'thou', 'though', 'thought', 'thousand', 'three', 'thrill', 'throughout', 'throw', 'thrown', 'thru', 'thumb', 'thunderstorm', 'thursday', 'ti', 'tickl', 'tie', 'tiempo', 'tien', 'til', 'till', 'time', 'timer', 'tin', 'ting', 'tini', 'tinker', 'tinni', 'tip', 'tire', 'titl', 'tivo', 'toda', 'today', 'toddler', 'togeth', 'toilet', 'told', 'tomi', 'tomorrow', 'ton', 'tone', 'toni', 'took', 'tool', 'tooth', 'top', 'topic', 'tosca', 'total', 'totallli', 'tou', 'touch', 'tout', 'toward', 'tower', 'town', 'toy', 'track', 'tradit', 'traffic', 'trailer', 'train', 'traine', 'transfer', 'travel', 'travé', 'treadmil', 'treat', 'trebl', 'trek', 'tremend', 'trend', 'tri', 'trial', 'trick', 'tricki', 'trigger', 'trip', 'trivia', 'troubl', 'troubleshoot', 'troublesom', 'true', 'truli', 'trust', 'tube', 'tubi', 'tune', 'tunein', 'turn', 'tv', 'tweeter', 'twice', 'twist', 'twitter', 'two', 'ty', 'type', 'typic', 'título', 'ude', 'ugli', 'uhyour', 'ummm', 'un', 'unabl', 'unavail', 'unbeliev', 'uncl', 'underestim', 'understand', 'understood', 'unexpect', 'unfortun', 'unhappi', 'unhelp', 'unico', 'unimport', 'uniqu', 'unit', 'univers', 'unless', 'unlik', 'unlimit', 'unlock', 'unnannounc', 'unnecessari', 'unobtrus', 'unplug', 'unrespons', 'unsettl', 'untap', 'unus', 'unwitti', 'unwrap', 'upcom', 'updat', 'upgrad', 'upload', 'upon', 'upset', 'upstair', 'urg', 'usa', 'usabl', 'usag', 'usb', 'usd', 'use', 'useless', 'user', 'usual', 'util', 'utilización', 'vacat', 'vacuum', 'valu', 'variant', 'varieti', 'variou', 'vast', 'vehicl', 'verbal', 'vers', 'versa', 'versatil', 'version', 'versu', 'vet', 'vez', 'via', 'vibrat', 'vice', 'viceo', 'video', 'view', 'vintag', 'viola', 'virtual', 'visa', 'visibl', 'vision', 'visit', 'visual', 'vlan', 'voic', 'voiceview', 'voila', 'voltag', 'voltson', 'volum', 'vudu', 'wait', 'wake', 'walk', 'wall', 'want', 'warehous', 'warn', 'warranti', 'wasconcern', 'wasnt', 'wast', 'watch', 'water', 'wattag', 'wave', 'way', 'weak', 'wealth', 'wear', 'weari', 'weather', 'web', 'websit', 'wed', 'week', 'weekday', 'weekend', 'weekli', 'weight', 'weird', 'welcom', 'well', 'wellfour', 'went', 'what', 'whatev', 'whatsoev', 'whe', 'whenev', 'wherev', 'whether', 'whisper', 'whistl', 'white', 'who', 'whole', 'whose', 'wi', 'wide', 'widespread', 'wife', 'wifi', 'wikipedia', 'will', 'wind', 'window', 'wink', 'wireless', 'wish', 'within', 'without', 'wo', 'woke', 'woken', 'wonder', 'wont', 'woofer', 'woohoo', 'word', 'work', 'workaround', 'workout', 'workreat', 'world', 'worri', 'worst', 'worth', 'worthi', 'worthless', 'would', 'wow', 'write', 'wrong', 'xbox', 'xfiniti', 'xm', 'yale', 'yard', 'ye', 'yeah', 'year', 'yell', 'yellow', 'yep', 'yesterday', 'yet', 'yhe', 'york', 'young', 'younger', 'youngest', 'youtub', 'yr', 'yup', 'zero', 'zigbe', 'zzzz', 'zzzzzzz', 'útil']\n"
          ]
        }
      ],
      "source": [
        "from sklearn.feature_extraction.text import TfidfVectorizer\n",
        "\n",
        "vectoriser = TfidfVectorizer()\n",
        "X = vectoriser.fit_transform(reviews)\n",
        "print('TFIDF:')\n",
        "print(vectoriser.get_feature_names())"
      ]
    },
    {
      "cell_type": "code",
      "execution_count": null,
      "metadata": {
        "id": "rUCwO6BGCbEb",
        "outputId": "14388641-cec9-4a75-d749-1f90528eb66d"
      },
      "outputs": [
        {
          "name": "stdout",
          "output_type": "stream",
          "text": [
            "[[0. 0. 0. ... 0. 0. 0.]\n",
            " [0. 0. 0. ... 0. 0. 0.]\n",
            " [0. 0. 0. ... 0. 0. 0.]\n",
            " ...\n",
            " [0. 0. 0. ... 0. 0. 0.]\n",
            " [0. 0. 0. ... 0. 0. 0.]\n",
            " [0. 0. 0. ... 0. 0. 0.]]\n"
          ]
        }
      ],
      "source": [
        "# TFIDF Array\n",
        "print(X.toarray())"
      ]
    },
    {
      "cell_type": "code",
      "execution_count": null,
      "metadata": {
        "id": "ZFelb3ObCbEb",
        "outputId": "22fbb951-dc8b-441c-ccd2-54b5c680bd3f"
      },
      "outputs": [
        {
          "data": {
            "text/plain": [
              "(3150, 2701)"
            ]
          },
          "execution_count": 18,
          "metadata": {},
          "output_type": "execute_result"
        }
      ],
      "source": [
        "X.shape"
      ]
    }
  ],
  "metadata": {
    "interpreter": {
      "hash": "b496d7c422ff408be0a1e71fc078a3f162bc7a0268e67ea9347de51a38aa16b5"
    },
    "kernelspec": {
      "display_name": "Python 3.8.5 ('base')",
      "language": "python",
      "name": "python3"
    },
    "language_info": {
      "codemirror_mode": {
        "name": "ipython",
        "version": 3
      },
      "file_extension": ".py",
      "mimetype": "text/x-python",
      "name": "python",
      "nbconvert_exporter": "python",
      "pygments_lexer": "ipython3",
      "version": "3.8.5"
    },
    "orig_nbformat": 4,
    "colab": {
      "name": "TC52_Assignment7.ipynb",
      "provenance": [],
      "collapsed_sections": []
    }
  },
  "nbformat": 4,
  "nbformat_minor": 0
}